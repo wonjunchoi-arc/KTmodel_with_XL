{
 "cells": [
  {
   "cell_type": "code",
   "execution_count": 1,
   "metadata": {},
   "outputs": [],
   "source": [
    "import pandas as pd\n",
    "\n",
    "def sta_infos(df, keys, stares, split_str=\"_\"):\n",
    "    # keys: 0: uid , 1: concept(skill id), 2: question(problem id)\n",
    "    uids = df[keys[0]].unique()\n",
    "    if len(keys) == 2:\n",
    "        cids = df[keys[1]].unique()\n",
    "    elif len(keys) > 2:\n",
    "        qids = df[keys[2]].unique()\n",
    "        ctotal = 0\n",
    "        cq = df.drop_duplicates([keys[2], keys[1]])[[keys[2], keys[1]]]\n",
    "        cq[keys[1]] = cq[keys[1]].fillna(\"NANA\")\n",
    "        cids, dq2c = set(), dict()\n",
    "        for i, row in cq.iterrows():\n",
    "            q = row[keys[2]]\n",
    "            ks = row[keys[1]]\n",
    "            dq2c.setdefault(q, set())\n",
    "            if ks == \"NANA\":\n",
    "                continue\n",
    "            for k in str(ks).split(split_str):\n",
    "                dq2c[q].add(k)\n",
    "                cids.add(k)\n",
    "        ctotal, na, qtotal = 0, 0, 0\n",
    "        for q in dq2c:\n",
    "            if len(dq2c[q]) == 0:\n",
    "                na += 1 # questions has no concept\n",
    "                continue\n",
    "            qtotal += 1\n",
    "            ctotal += len(dq2c[q])\n",
    "        \n",
    "        avgcq = round(ctotal / qtotal, 4)\n",
    "    avgins = round(df.shape[0] / len(uids), 4)\n",
    "    ins, us, qs, cs = df.shape[0], len(uids), \"NA\", len(cids)\n",
    "    avgcqf, naf = \"NA\", \"NA\"\n",
    "    if len(keys) > 2:\n",
    "        qs, avgcqf, naf = len(qids), avgcq, na\n",
    "    curr = [ins, us, qs, cs, avgins, avgcqf, naf]\n",
    "    stares.append(\",\".join([str(s) for s in curr]))\n",
    "    return ins, us, qs, cs, avgins, avgcqf, naf\n"
   ]
  },
  {
   "cell_type": "code",
   "execution_count": 2,
   "metadata": {},
   "outputs": [],
   "source": [
    "read_file= '/home/jun/workspace/KT/data/2009/skill_builder_data_corrected.csv'\n",
    "df = pd.read_csv(read_file, encoding = 'ISO-8859-15', dtype=str)\n"
   ]
  },
  {
   "cell_type": "code",
   "execution_count": null,
   "metadata": {},
   "outputs": [],
   "source": [
    "df['']"
   ]
  },
  {
   "cell_type": "code",
   "execution_count": 3,
   "metadata": {},
   "outputs": [],
   "source": [
    "KEYS = [\"user_id\", \"skill_id\", \"problem_id\"]\n",
    "stares = []\n",
    "\n",
    "ins, us, qs, cs, avgins, avgcq, na = sta_infos(df, KEYS, stares)\n"
   ]
  },
  {
   "cell_type": "code",
   "execution_count": 4,
   "metadata": {},
   "outputs": [
    {
     "data": {
      "text/plain": [
       "401756"
      ]
     },
     "execution_count": 4,
     "metadata": {},
     "output_type": "execute_result"
    }
   ],
   "source": [
    "ins"
   ]
  },
  {
   "cell_type": "code",
   "execution_count": 10,
   "metadata": {},
   "outputs": [],
   "source": [
    "uid = df[KEYS[0]].unique()"
   ]
  },
  {
   "cell_type": "code",
   "execution_count": 15,
   "metadata": {},
   "outputs": [],
   "source": [
    "qids = df[KEYS[2]].unique()"
   ]
  },
  {
   "cell_type": "code",
   "execution_count": 17,
   "metadata": {},
   "outputs": [
    {
     "data": {
      "text/plain": [
       "26688"
      ]
     },
     "execution_count": 17,
     "metadata": {},
     "output_type": "execute_result"
    }
   ],
   "source": [
    "len(qids)"
   ]
  },
  {
   "cell_type": "code",
   "execution_count": 18,
   "metadata": {},
   "outputs": [],
   "source": [
    "import pandas as pd\n",
    "\n",
    "data = {\n",
    "    \"Category\": [\"A\", \"B\", \"A\", \"B\", \"A\", \"C\"],\n",
    "    \"Value\": [10, 15, 20, 25, 30, 35]\n",
    "}\n",
    "\n",
    "_df = pd.DataFrame(data)"
   ]
  },
  {
   "cell_type": "code",
   "execution_count": 19,
   "metadata": {},
   "outputs": [],
   "source": [
    "grouped = _df.groupby(\"Category\")\n"
   ]
  },
  {
   "cell_type": "code",
   "execution_count": 21,
   "metadata": {},
   "outputs": [
    {
     "data": {
      "text/plain": [
       "{'A': [0, 2, 4], 'B': [1, 3], 'C': [5]}"
      ]
     },
     "execution_count": 21,
     "metadata": {},
     "output_type": "execute_result"
    }
   ],
   "source": [
    "grouped.groups"
   ]
  },
  {
   "cell_type": "code",
   "execution_count": 31,
   "metadata": {},
   "outputs": [
    {
     "name": "stdout",
     "output_type": "stream",
     "text": [
      "A\n",
      "B\n",
      "C\n"
     ]
    }
   ],
   "source": [
    "for i in grouped:\n",
    "    print(i[0])\n"
   ]
  },
  {
   "cell_type": "code",
   "execution_count": null,
   "metadata": {},
   "outputs": [],
   "source": []
  }
 ],
 "metadata": {
  "kernelspec": {
   "display_name": "new",
   "language": "python",
   "name": "python3"
  },
  "language_info": {
   "codemirror_mode": {
    "name": "ipython",
    "version": 3
   },
   "file_extension": ".py",
   "mimetype": "text/x-python",
   "name": "python",
   "nbconvert_exporter": "python",
   "pygments_lexer": "ipython3",
   "version": "3.8.0"
  },
  "orig_nbformat": 4
 },
 "nbformat": 4,
 "nbformat_minor": 2
}
